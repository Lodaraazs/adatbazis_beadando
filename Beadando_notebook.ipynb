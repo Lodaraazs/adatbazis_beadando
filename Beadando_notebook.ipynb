{
    "metadata": {
        "kernelspec": {
            "name": "SQL",
            "display_name": "SQL",
            "language": "sql"
        },
        "language_info": {
            "name": "sql",
            "version": ""
        }
    },
    "nbformat_minor": 2,
    "nbformat": 4,
    "cells": [
        {
            "cell_type": "markdown",
            "source": [
                "Logikai adatmodell: GitHubon png-ként csatolva"
            ],
            "metadata": {
                "azdata_cell_guid": "c4ad7bae-17df-4fde-9357-37a3c1940b91"
            },
            "attachments": {}
        },
        {
            "cell_type": "markdown",
            "source": [
                "Adatbázis létrehozása, valamint feltöltése adatokkal"
            ],
            "metadata": {
                "azdata_cell_guid": "4799382a-ddfa-4aa3-bb01-d71fcd10934a"
            },
            "attachments": {}
        },
        {
            "cell_type": "code",
            "source": [
                "-- Stadion tábla\r\n",
                "CREATE TABLE Stadion (\r\n",
                "    stadion_id INT IDENTITY(1,1) PRIMARY KEY,\r\n",
                "    nev NVARCHAR(100) NOT NULL,\r\n",
                "    helyszin NVARCHAR(100) NOT NULL,\r\n",
                "    kapacitas INT\r\n",
                ");\r\n",
                "\r\n",
                "-- Csapat tábla\r\n",
                "CREATE TABLE Csapat (\r\n",
                "    csapat_id INT IDENTITY(1,1) PRIMARY KEY,\r\n",
                "    csapat_nev NVARCHAR(100) NOT NULL,\r\n",
                "    stadion_id INT,\r\n",
                "    mez_szin NVARCHAR(50),\r\n",
                "    CONSTRAINT fk_csapat_stadion FOREIGN KEY (stadion_id) REFERENCES Stadion(stadion_id)\r\n",
                ");\r\n",
                "\r\n",
                "-- Játékos tábla\r\n",
                "CREATE TABLE Jatekos (\r\n",
                "    jatekos_id INT IDENTITY(1,1) PRIMARY KEY,\r\n",
                "    jatekos_nev NVARCHAR(100) NOT NULL,\r\n",
                "    szu_dat DATE,\r\n",
                "    nemzetiseg NVARCHAR(50),\r\n",
                "    csapat_id INT,\r\n",
                "    CONSTRAINT fk_jatekos_csapat FOREIGN KEY (csapat_id) REFERENCES Csapat(csapat_id)\r\n",
                ");\r\n",
                "\r\n",
                "-- Meccs tábla\r\n",
                "CREATE TABLE Meccs (\r\n",
                "    meccs_id INT IDENTITY(1,1) PRIMARY KEY,\r\n",
                "    hazai_gol INT DEFAULT 0,\r\n",
                "    idegen_gol INT DEFAULT 0,\r\n",
                "    hazai_csapat_id INT NOT NULL,\r\n",
                "    idegen_csapat_id INT NOT NULL,\r\n",
                "    stadion_id INT,\r\n",
                "    meccs_datum DATE,\r\n",
                "    CONSTRAINT fk_meccs_hazai_csapat FOREIGN KEY (hazai_csapat_id) REFERENCES Csapat(csapat_id),\r\n",
                "    CONSTRAINT fk_meccs_idegen_csapat FOREIGN KEY (idegen_csapat_id) REFERENCES Csapat(csapat_id),\r\n",
                "    CONSTRAINT fk_meccs_stadion FOREIGN KEY (stadion_id) REFERENCES Stadion(stadion_id)\r\n",
                ");\r\n",
                "\r\n",
                "-- Gól tábla\r\n",
                "CREATE TABLE Gol (\r\n",
                "    gol_id INT IDENTITY(1,1) PRIMARY KEY,\r\n",
                "    perc INT NOT NULL,\r\n",
                "    jatekos_id INT NOT NULL,\r\n",
                "    meccs_id INT NOT NULL,\r\n",
                "    CONSTRAINT fk_gol_jatekos FOREIGN KEY (jatekos_id) REFERENCES Jatekos(jatekos_id),\r\n",
                "    CONSTRAINT fk_gol_meccs FOREIGN KEY (meccs_id) REFERENCES Meccs(meccs_id)\r\n",
                ");\r\n",
                ""
            ],
            "metadata": {
                "azdata_cell_guid": "db603f39-bf8d-4099-ac2e-c22e165f8409",
                "language": "sql"
            },
            "outputs": [],
            "execution_count": null
        },
        {
            "cell_type": "code",
            "source": [
                "INSERT INTO Stadion (nev, helyszin, kapacitas) VALUES\r\n",
                "('Groupama Aréna',            'Budapest',      22000),\r\n",
                "('Puskás Aréna',              'Budapest',      67000),\r\n",
                "('Hidegkuti Nándor Stadion',  'Budapest',      22000),\r\n",
                "('Dóczy József Stadion',      'Szeged',        18000),\r\n",
                "('Miskolci Stadion',          'Miskolc',       15000),\r\n",
                "('Győri ETO Stadion',         'Győr',          14000),\r\n",
                "('Pécsi Stadion',             'Pécs',          12000),\r\n",
                "('Nyíregyháza Városi Stadion','Nyíregyháza',   10000),\r\n",
                "('Kecskeméti Stadion',        'Kecskemét',     13000),\r\n",
                "('Soproni Stadion',           'Sopron',         8000),\r\n",
                "('Szombathelyi Városi Stadion','Szombathely',   9000),\r\n",
                "('Veszprémi Stadion',         'Veszprém',      11000),\r\n",
                "('Kaposvári Stadion',         'Kaposvár',      14000),\r\n",
                "('Érdi Stadion',              'Érd',           16000),\r\n",
                "('Zalaegerszegi Stadion',     'Zalaegerszeg',  15000),\r\n",
                "('Tatabányai Stadion',        'Tatabánya',     10000),\r\n",
                "('Salgótarjáni Városi Stadion','Salgótarján',   7000),\r\n",
                "('Egri Stadion',              'Eger',          13000),\r\n",
                "('Szolnoki Stadion',          'Szolnok',       12000),\r\n",
                "('Békéscsabai Stadion',       'Békéscsaba',    11000);"
            ],
            "metadata": {
                "language": "sql",
                "azdata_cell_guid": "926fae11-e6ec-4cc4-bd2d-3f0a871218ec"
            },
            "outputs": [],
            "execution_count": null
        },
        {
            "cell_type": "code",
            "source": [
                "INSERT INTO Csapat (csapat_nev, stadion_id, mez_szin) VALUES\r\n",
                "('Ferencvárosi TC',       1,  'zöld-fehér'),\r\n",
                "('MTK Budapest',           2,  'kék-fehér'),\r\n",
                "('Debreceni VSC',          3,  'fehér-kék'),\r\n",
                "('Szegedi AK',             4,  'piros-fehér'),\r\n",
                "('Miskolci VFC',           5,  'kék-fehér'),\r\n",
                "('Győri ETO',              6,  'zöld-sárga'),\r\n",
                "('Pécsi MFC',              7,  'fekete-fehér'),\r\n",
                "('Nyíregyháza Spartacus',  8,  'piros-kék'),\r\n",
                "('Kecskeméti TE',          9,  'sárga-kék'),\r\n",
                "('Sopron FC',             10,  'piros-kék'),\r\n",
                "('Szombathelyi Haladás',  11,  'zöld-fehér'),\r\n",
                "('Veszprém SC',           12,  'piros-fehér'),\r\n",
                "('Kaposvári Rákóczi',     13,  'kék-fehér'),\r\n",
                "('Érdi VSE',              14,  'sárga-fehér'),\r\n",
                "('Zalaegerszegi TE',      15,  'piros-zöld'),\r\n",
                "('Tatabányai SC',         16,  'kék-fehér'),\r\n",
                "('Salgótarjáni BTC',      17,  'zöld-fehér'),\r\n",
                "('Eger FC',               18,  'fekete-piros'),\r\n",
                "('Szolnoki MÁV',          19,  'sárga-zöld'),\r\n",
                "('Békéscsabai Előre',     20,  'kék-sárga');"
            ],
            "metadata": {
                "language": "sql",
                "azdata_cell_guid": "04a8a358-2ddc-49c7-877c-6e5899391086"
            },
            "outputs": [],
            "execution_count": null
        },
        {
            "cell_type": "code",
            "source": [
                "INSERT INTO Jatekos (jatekos_nev, szu_dat, nemzetiseg, csapat_id) VALUES\r\n",
                "('Kovács Péter',      '1990-05-20', 'magyar',    1),\r\n",
                "('Németh Gábor',      '1992-08-15', 'magyar',    1),\r\n",
                "('Balogh László',     '1988-03-10', 'magyar',    1),\r\n",
                "('Szabó András',      '1995-01-25', 'magyar',    1),\r\n",
                "('Tóth Attila',       '1991-07-30', 'magyar',    1),\r\n",
                "('Farkas István',     '1993-11-12', 'magyar',    2),\r\n",
                "('Molnár Gábor',      '1994-06-18', 'magyar',    2),\r\n",
                "('Horváth Zoltán',    '1989-09-14', 'magyar',    2),\r\n",
                "('Kiss Márton',       '1996-04-05', 'magyar',    2),\r\n",
                "('Varga Péter',       '1990-12-10', 'magyar',    2),\r\n",
                "('Dubois Jean',       '1995-03-10', 'francia',   3),\r\n",
                "('Bernard Marc',      '1992-10-20', 'francia',   3),\r\n",
                "('Lefevre Alain',     '1993-04-14', 'francia',   3),\r\n",
                "('Sanchez Luis',      '1991-08-19', 'spanyol',   4),\r\n",
                "('Garcia Miguel',     '1990-02-02', 'spanyol',   4),\r\n",
                "('Rossi Marco',       '1994-11-11', 'olasz',     5),\r\n",
                "('Esposito Luigi',    '1992-05-05', 'olasz',     5),\r\n",
                "('Popescu Ion',       '1993-07-07', 'román',     6),\r\n",
                "('Ionescu Mihai',     '1995-09-09', 'román',     6),\r\n",
                "('Novak Petar',       '1991-12-12', 'szerb',     7);"
            ],
            "metadata": {
                "language": "sql",
                "azdata_cell_guid": "f011913b-6219-4ffb-80c1-ce122bd1c27b"
            },
            "outputs": [],
            "execution_count": null
        },
        {
            "cell_type": "code",
            "source": [
                "INSERT INTO Meccs (hazai_gol, idegen_gol, hazai_csapat_id, idegen_csapat_id, stadion_id, meccs_datum) VALUES\r\n",
                "(2, 1, 1,  2,  1,  '2025-04-15'),\r\n",
                "(1, 1, 2,  1,  2,  '2025-04-20'),\r\n",
                "(3, 2, 3,  4,  3,  '2025-05-01'),\r\n",
                "(0, 0, 4,  3,  4,  '2025-05-10'),\r\n",
                "(1, 2, 5,  6,  5,  '2025-05-15'),\r\n",
                "(2, 2, 6,  7,  6,  '2025-05-20'),\r\n",
                "(4, 1, 7,  8,  7,  '2025-05-25'),\r\n",
                "(0, 3, 8,  9,  8,  '2025-05-30'),\r\n",
                "(2, 2, 9,  10, 9,  '2025-06-05'),\r\n",
                "(1, 0, 10, 11, 10, '2025-06-10'),\r\n",
                "(3, 3, 11, 12, 11, '2025-06-15'),\r\n",
                "(0, 1, 12, 13, 12, '2025-06-20'),\r\n",
                "(2, 0, 13, 14, 13, '2025-06-25'),\r\n",
                "(1, 2, 14, 15, 14, '2025-07-01'),\r\n",
                "(0, 0, 15, 16, 15, '2025-07-05'),\r\n",
                "(3, 1, 16, 17, 16, '2025-07-10'),\r\n",
                "(2, 1, 17, 18, 17, '2025-07-15'),\r\n",
                "(1, 3, 18, 19, 18, '2025-07-20'),\r\n",
                "(2, 2, 19, 20, 19, '2025-07-25'),\r\n",
                "(4, 0, 20, 1,  20, '2025-07-30');"
            ],
            "metadata": {
                "language": "sql",
                "azdata_cell_guid": "6d42c672-ae69-41fc-b91e-13405e3cad16"
            },
            "outputs": [],
            "execution_count": null
        },
        {
            "cell_type": "code",
            "source": [
                "INSERT INTO Gol (perc, jatekos_id, meccs_id) VALUES\r\n",
                "(15, 1,  1),\r\n",
                "(33, 2,  1),\r\n",
                "(75, 3,  1),\r\n",
                "(22, 4,  2),\r\n",
                "(45, 5,  2),\r\n",
                "(10, 6,  3),\r\n",
                "(60, 7,  3),\r\n",
                "(80, 8,  3),\r\n",
                "(35, 9,  4),\r\n",
                "(55, 10, 4),\r\n",
                "(65, 11, 5),\r\n",
                "(50, 12, 5),\r\n",
                "(23, 13, 6),\r\n",
                "(67, 14, 6),\r\n",
                "(89, 15, 7),\r\n",
                "(5,  16, 8),\r\n",
                "(17, 17, 9),\r\n",
                "(75, 18, 10),\r\n",
                "(82, 19, 11),\r\n",
                "(90, 20, 12);"
            ],
            "metadata": {
                "language": "sql",
                "azdata_cell_guid": "8b5f8e8d-dea2-4e40-b37b-4c15c1e1ee6f"
            },
            "outputs": [],
            "execution_count": null
        },
        {
            "cell_type": "markdown",
            "source": [
                "Lekérdezések"
            ],
            "metadata": {
                "azdata_cell_guid": "524a977a-72c3-4e1a-8102-c84c0eafc5f7"
            },
            "attachments": {}
        },
        {
            "cell_type": "markdown",
            "source": [
                "Gólok nemzetiségek szerint"
            ],
            "metadata": {
                "azdata_cell_guid": "c268fc20-f2a7-43d2-b141-9a73409becce"
            },
            "attachments": {}
        },
        {
            "cell_type": "code",
            "source": [
                "SELECT \r\n",
                "    j.nemzetiseg,\r\n",
                "    COUNT(g.gol_id) AS golok_szama\r\n",
                "FROM Jatekos j\r\n",
                "LEFT JOIN Gol g ON j.jatekos_id = g.jatekos_id\r\n",
                "GROUP BY j.nemzetiseg\r\n",
                "ORDER BY golok_szama DESC;"
            ],
            "metadata": {
                "azdata_cell_guid": "b387e29d-f0c7-4c28-b076-dce20b87687a",
                "language": "sql",
                "tags": []
            },
            "outputs": [],
            "execution_count": null
        },
        {
            "cell_type": "markdown",
            "source": [
                "Melyik csapat lőtte a legtöbb gólt"
            ],
            "metadata": {
                "language": "sql",
                "azdata_cell_guid": "9abf572d-b086-44b6-8714-1cd4f01f7fc9"
            },
            "attachments": {}
        },
        {
            "cell_type": "code",
            "source": [
                "SELECT TOP 1\r\n",
                "    c.csapat_nev,\r\n",
                "    SUM(stat.lott_gol) AS osszes_gol\r\n",
                "FROM Csapat c\r\n",
                "JOIN (\r\n",
                "    SELECT hazai_csapat_id AS csapat_id, hazai_gol AS lott_gol FROM Meccs\r\n",
                "    UNION ALL\r\n",
                "    SELECT idegen_csapat_id AS csapat_id, idegen_gol AS lott_gol FROM Meccs\r\n",
                ") stat ON c.csapat_id = stat.csapat_id\r\n",
                "GROUP BY c.csapat_nev\r\n",
                "ORDER BY osszes_gol DESC;"
            ],
            "metadata": {
                "azdata_cell_guid": "1d7d07c2-3a45-42f4-bf8a-989ac0779e60",
                "language": "sql"
            },
            "outputs": [],
            "execution_count": null
        },
        {
            "cell_type": "markdown",
            "source": [
                "Fradi eddigi meccseinek statisztikái"
            ],
            "metadata": {
                "language": "sql",
                "azdata_cell_guid": "83246058-1030-40a5-90b4-0240ef1a682e"
            },
            "attachments": {}
        },
        {
            "cell_type": "code",
            "source": [
                "SELECT \r\n",
                "    m.meccs_id,\r\n",
                "    c1.csapat_nev AS hazai_csapat,\r\n",
                "    c2.csapat_nev AS idegen_csapat,\r\n",
                "    m.hazai_gol,\r\n",
                "    m.idegen_gol,\r\n",
                "    m.meccs_datum\r\n",
                "FROM Meccs m\r\n",
                "JOIN Csapat c1 ON m.hazai_csapat_id = c1.csapat_id\r\n",
                "JOIN Csapat c2 ON m.idegen_csapat_id = c2.csapat_id\r\n",
                "WHERE c1.csapat_nev = 'Ferencvárosi TC' OR c2.csapat_nev = 'Ferencvárosi TC'\r\n",
                "ORDER BY m.meccs_datum DESC;\r\n",
                "-- Csak a Tanár Úrnak!"
            ],
            "metadata": {
                "language": "sql",
                "azdata_cell_guid": "80f67eae-1809-43ab-b248-c50c1278a49c",
                "tags": []
            },
            "outputs": [],
            "execution_count": null
        },
        {
            "cell_type": "markdown",
            "source": [
                "Legnagyobb gólkülönbségű meccsek"
            ],
            "metadata": {
                "language": "sql",
                "azdata_cell_guid": "6f2c2696-7882-42b1-9dc4-0a51c7d4c6b6"
            },
            "attachments": {}
        },
        {
            "cell_type": "code",
            "source": [
                "SELECT TOP 5\r\n",
                "    c1.csapat_nev AS hazai_csapat,\r\n",
                "    c2.csapat_nev AS idegen_csapat,\r\n",
                "    m.hazai_gol,\r\n",
                "    m.idegen_gol,\r\n",
                "    ABS(m.hazai_gol - m.idegen_gol) AS golkulonbseg,\r\n",
                "    m.meccs_datum\r\n",
                "FROM Meccs m\r\n",
                "JOIN Csapat c1 ON m.hazai_csapat_id = c1.csapat_id\r\n",
                "JOIN Csapat c2 ON m.idegen_csapat_id = c2.csapat_id\r\n",
                "ORDER BY golkulonbseg DESC;\r\n",
                ""
            ],
            "metadata": {
                "azdata_cell_guid": "6630c980-d5b0-4e17-af9f-3fbd9edddcd2",
                "language": "sql"
            },
            "outputs": [],
            "execution_count": null
        },
        {
            "cell_type": "markdown",
            "source": [
                "Tabella"
            ],
            "metadata": {
                "azdata_cell_guid": "6e02973c-592b-488c-abf9-7743d08a4a07"
            },
            "attachments": {}
        },
        {
            "cell_type": "code",
            "source": [
                "SELECT \r\n",
                "    c.csapat_nev AS \"Csapat\",\r\n",
                "    SUM(stat.lejatszott) AS \"Lejátszott mérkőzések\",\r\n",
                "    SUM(stat.gyozelem) AS \"Győzelem\",\r\n",
                "    SUM(stat.dontetlen) AS \"Döntetlen\",\r\n",
                "    SUM(stat.vereseg) AS \"Vereség\",\r\n",
                "    SUM(stat.lott_gol) AS \"Lőtt gól\",\r\n",
                "    SUM(stat.kapott_gol) AS \"Kapott gól\",\r\n",
                "    SUM(stat.lott_gol) - SUM(stat.kapott_gol) AS \"Gólkülönbség\",\r\n",
                "    SUM(stat.pont) AS \"Pont\"\r\n",
                "FROM \r\n",
                "    Csapat c\r\n",
                "JOIN\r\n",
                "(\r\n",
                "    SELECT \r\n",
                "        hazai_csapat_id AS csapat_id,\r\n",
                "        1 AS lejatszott,\r\n",
                "        CASE WHEN hazai_gol > idegen_gol THEN 1 ELSE 0 END AS gyozelem,\r\n",
                "        CASE WHEN hazai_gol = idegen_gol THEN 1 ELSE 0 END AS dontetlen,\r\n",
                "        CASE WHEN hazai_gol < idegen_gol THEN 1 ELSE 0 END AS vereseg,\r\n",
                "        hazai_gol AS lott_gol,\r\n",
                "        idegen_gol AS kapott_gol,\r\n",
                "        CASE \r\n",
                "            WHEN hazai_gol > idegen_gol THEN 3\r\n",
                "            WHEN hazai_gol = idegen_gol THEN 1\r\n",
                "            ELSE 0\r\n",
                "        END AS pont\r\n",
                "    FROM Meccs\r\n",
                "\r\n",
                "    UNION ALL\r\n",
                "\r\n",
                "    SELECT \r\n",
                "        idegen_csapat_id AS csapat_id,\r\n",
                "        1 AS lejatszott,\r\n",
                "        CASE WHEN idegen_gol > hazai_gol THEN 1 ELSE 0 END AS gyozelem,\r\n",
                "        CASE WHEN idegen_gol = hazai_gol THEN 1 ELSE 0 END AS dontetlen,\r\n",
                "        CASE WHEN idegen_gol < hazai_gol THEN 1 ELSE 0 END AS vereseg,\r\n",
                "        idegen_gol AS lott_gol,\r\n",
                "        hazai_gol AS kapott_gol,\r\n",
                "        CASE \r\n",
                "            WHEN idegen_gol > hazai_gol THEN 3\r\n",
                "            WHEN idegen_gol = hazai_gol THEN 1\r\n",
                "            ELSE 0\r\n",
                "        END AS pont\r\n",
                "    FROM Meccs\r\n",
                ") stat ON stat.csapat_id = c.csapat_id\r\n",
                "GROUP BY \r\n",
                "    c.csapat_id, c.csapat_nev\r\n",
                "ORDER BY \r\n",
                "    \"Pont\" DESC,\r\n",
                "    \"Gólkülönbség\" DESC,\r\n",
                "    \"Lőtt gól\" DESC;"
            ],
            "metadata": {
                "azdata_cell_guid": "308515d3-1c39-4ecf-b65a-08d06d0f04eb",
                "language": "sql"
            },
            "outputs": [],
            "execution_count": null
        }
    ]
}